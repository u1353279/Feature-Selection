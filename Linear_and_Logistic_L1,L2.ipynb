{
  "nbformat": 4,
  "nbformat_minor": 0,
  "metadata": {
    "colab": {
      "name": "Linear and Logistic L1,L2.ipynb",
      "provenance": [],
      "collapsed_sections": [],
      "mount_file_id": "1rnejzmGDC5yZbJy1CqgVKiClH0A8hAGg",
      "authorship_tag": "ABX9TyMBflZk5gKmVtDjxJmOL0wr",
      "include_colab_link": true
    },
    "kernelspec": {
      "name": "python3",
      "display_name": "Python 3"
    }
  },
  "cells": [
    {
      "cell_type": "markdown",
      "metadata": {
        "id": "view-in-github",
        "colab_type": "text"
      },
      "source": [
        "<a href=\"https://colab.research.google.com/github/u1353279/Feature-Selection/blob/master/Linear_and_Logistic_L1%2CL2.ipynb\" target=\"_parent\"><img src=\"https://colab.research.google.com/assets/colab-badge.svg\" alt=\"Open In Colab\"/></a>"
      ]
    },
    {
      "cell_type": "code",
      "metadata": {
        "id": "KAvLnk-Im6Yt",
        "colab_type": "code",
        "colab": {
          "base_uri": "https://localhost:8080/",
          "height": 72
        },
        "outputId": "1f657090-712e-4752-da5b-743686060c32"
      },
      "source": [
        "import pandas as pd\n",
        "import numpy as np\n",
        "import matplotlib.pyplot as plt\n",
        "import seaborn as sns"
      ],
      "execution_count": 1,
      "outputs": [
        {
          "output_type": "stream",
          "text": [
            "/usr/local/lib/python3.6/dist-packages/statsmodels/tools/_testing.py:19: FutureWarning: pandas.util.testing is deprecated. Use the functions in the public API at pandas.testing instead.\n",
            "  import pandas.util.testing as tm\n"
          ],
          "name": "stderr"
        }
      ]
    },
    {
      "cell_type": "code",
      "metadata": {
        "id": "55is9P6znJKX",
        "colab_type": "code",
        "colab": {}
      },
      "source": [
        "from sklearn.model_selection import train_test_split\n",
        "from sklearn.ensemble import RandomForestClassifier\n",
        "from sklearn.metrics import accuracy_score\n",
        "from sklearn.feature_selection import SelectKBest,SelectPercentile\n",
        "from sklearn.preprocessing import StandardScaler"
      ],
      "execution_count": 2,
      "outputs": []
    },
    {
      "cell_type": "code",
      "metadata": {
        "id": "r3gNciPhnVso",
        "colab_type": "code",
        "colab": {}
      },
      "source": [
        "from sklearn.linear_model import LinearRegression,LogisticRegression\n",
        "from sklearn.feature_selection import SelectFromModel"
      ],
      "execution_count": 3,
      "outputs": []
    },
    {
      "cell_type": "code",
      "metadata": {
        "id": "XFn_M_9TnhEz",
        "colab_type": "code",
        "colab": {}
      },
      "source": [
        "df=pd.read_csv('/content/drive/My Drive/santandar.csv/train.csv',nrows=20000)"
      ],
      "execution_count": 4,
      "outputs": []
    },
    {
      "cell_type": "code",
      "metadata": {
        "id": "AV609qctn06j",
        "colab_type": "code",
        "colab": {}
      },
      "source": [
        "X=df.drop('TARGET',axis=1)\n",
        "y=df['TARGET']"
      ],
      "execution_count": 5,
      "outputs": []
    },
    {
      "cell_type": "code",
      "metadata": {
        "id": "DvRIFNaIn7xc",
        "colab_type": "code",
        "colab": {
          "base_uri": "https://localhost:8080/",
          "height": 34
        },
        "outputId": "e22dd245-4635-432a-af3b-876592c2d9e0"
      },
      "source": [
        "X.shape,y.shape"
      ],
      "execution_count": 6,
      "outputs": [
        {
          "output_type": "execute_result",
          "data": {
            "text/plain": [
              "((20000, 370), (20000,))"
            ]
          },
          "metadata": {
            "tags": []
          },
          "execution_count": 6
        }
      ]
    },
    {
      "cell_type": "code",
      "metadata": {
        "id": "xpSkGwJnn9dq",
        "colab_type": "code",
        "colab": {}
      },
      "source": [
        "X_train,X_test,y_train,y_test=train_test_split(X,y,test_size=0.3,random_state=43)"
      ],
      "execution_count": 7,
      "outputs": []
    },
    {
      "cell_type": "markdown",
      "metadata": {
        "id": "2deQm_vHujZI",
        "colab_type": "text"
      },
      "source": [
        "Esitimation of coefficients of linear regression (higher the coeffcient more relevent it is).\n",
        "as there is no gradient in linear we dont need regularisation"
      ]
    },
    {
      "cell_type": "code",
      "metadata": {
        "id": "zJvVVXa8oCQD",
        "colab_type": "code",
        "colab": {}
      },
      "source": [
        "sel=SelectFromModel(LinearRegression())"
      ],
      "execution_count": 8,
      "outputs": []
    },
    {
      "cell_type": "code",
      "metadata": {
        "id": "q72JSvrToMHh",
        "colab_type": "code",
        "colab": {
          "base_uri": "https://localhost:8080/",
          "height": 69
        },
        "outputId": "f3a7ac4c-a015-4008-e647-465461b46701"
      },
      "source": [
        "sel.fit(X_train,y_train)"
      ],
      "execution_count": 9,
      "outputs": [
        {
          "output_type": "execute_result",
          "data": {
            "text/plain": [
              "SelectFromModel(estimator=LinearRegression(copy_X=True, fit_intercept=True,\n",
              "                                           n_jobs=None, normalize=False),\n",
              "                max_features=None, norm_order=1, prefit=False, threshold=None)"
            ]
          },
          "metadata": {
            "tags": []
          },
          "execution_count": 9
        }
      ]
    },
    {
      "cell_type": "code",
      "metadata": {
        "id": "_H1BaR4HoU7K",
        "colab_type": "code",
        "colab": {
          "base_uri": "https://localhost:8080/",
          "height": 743
        },
        "outputId": "f1afc93f-e1dd-47d0-ed80-1e02db93c2e1"
      },
      "source": [
        "sel.get_support()"
      ],
      "execution_count": 10,
      "outputs": [
        {
          "output_type": "execute_result",
          "data": {
            "text/plain": [
              "array([False, False, False, False, False, False, False, False, False,\n",
              "       False, False, False, False, False, False, False, False, False,\n",
              "       False, False, False, False, False, False,  True,  True, False,\n",
              "       False, False, False,  True,  True, False, False, False, False,\n",
              "        True, False, False,  True, False, False, False, False, False,\n",
              "       False, False, False, False, False, False,  True,  True,  True,\n",
              "        True,  True,  True, False, False, False, False, False, False,\n",
              "        True,  True,  True,  True,  True,  True,  True,  True, False,\n",
              "       False, False,  True, False, False,  True, False, False,  True,\n",
              "       False, False, False, False, False, False,  True, False, False,\n",
              "       False, False, False, False, False, False, False, False, False,\n",
              "       False, False, False, False, False, False, False, False, False,\n",
              "       False, False, False, False, False, False, False, False, False,\n",
              "       False, False, False, False, False, False, False, False, False,\n",
              "       False, False, False, False, False, False, False, False, False,\n",
              "       False, False, False, False, False,  True,  True, False, False,\n",
              "        True, False, False, False, False, False, False, False, False,\n",
              "        True, False, False, False, False, False,  True,  True,  True,\n",
              "       False, False, False, False, False, False, False, False, False,\n",
              "       False, False, False, False, False, False, False, False, False,\n",
              "       False, False, False, False, False, False, False, False, False,\n",
              "       False, False, False, False, False, False, False, False, False,\n",
              "       False, False,  True, False, False, False, False, False, False,\n",
              "       False, False, False, False, False,  True, False, False, False,\n",
              "       False, False, False, False, False, False, False, False, False,\n",
              "       False, False, False, False, False, False, False, False, False,\n",
              "       False, False, False, False, False, False, False, False, False,\n",
              "       False, False, False, False, False, False, False, False, False,\n",
              "       False, False, False,  True,  True,  True,  True, False, False,\n",
              "       False, False, False, False, False,  True, False, False, False,\n",
              "       False, False,  True, False, False, False, False, False, False,\n",
              "       False, False, False, False, False, False, False, False, False,\n",
              "       False, False, False,  True, False, False, False, False,  True,\n",
              "        True, False, False,  True,  True,  True,  True, False, False,\n",
              "       False, False, False, False, False, False, False, False, False,\n",
              "       False, False, False, False, False, False, False, False, False,\n",
              "       False, False, False, False, False, False, False, False, False,\n",
              "       False, False, False, False, False, False, False, False, False,\n",
              "       False, False, False, False, False, False, False, False, False,\n",
              "       False, False, False, False, False, False, False, False, False,\n",
              "       False, False, False, False, False, False, False, False, False,\n",
              "       False])"
            ]
          },
          "metadata": {
            "tags": []
          },
          "execution_count": 10
        }
      ]
    },
    {
      "cell_type": "code",
      "metadata": {
        "id": "-aP93an7oYBq",
        "colab_type": "code",
        "colab": {
          "base_uri": "https://localhost:8080/",
          "height": 1000
        },
        "outputId": "bc229e79-a8a9-4be9-9f6b-ffc942bd8316"
      },
      "source": [
        "sel.estimator_.coef_"
      ],
      "execution_count": 11,
      "outputs": [
        {
          "output_type": "execute_result",
          "data": {
            "text/plain": [
              "array([ 1.09921109e-07,  7.44109843e-08,  2.10185945e-03, -3.78580228e-07,\n",
              "       -3.51370719e-05, -7.76352430e-06, -1.37898302e-04,  1.66216591e-05,\n",
              "        6.19691668e-05, -1.60769450e-04, -1.01913756e-05,  1.03567487e-04,\n",
              "       -2.44310589e-05, -1.05565572e-05,  7.90780405e-05, -6.69271283e-06,\n",
              "        5.22355725e-05, -8.16853812e-05, -1.67785574e-05, -4.86932766e-07,\n",
              "        7.83345261e-03, -1.25080743e-03,  6.67647636e-08, -7.07661251e-08,\n",
              "       -5.94263224e-02,  2.62379830e-02, -3.42373415e-03, -2.78631621e-08,\n",
              "        1.16250286e-03,  5.92041256e-03, -9.66686101e-02,  1.14085662e-01,\n",
              "        4.25008448e-03, -9.55420431e-03, -4.40936277e-03,  9.63416364e-03,\n",
              "       -5.90810441e-02, -2.77605476e-11,  6.28943847e-12, -5.94870034e-02,\n",
              "       -1.12635532e-02, -1.39484753e-02, -2.19183196e-02, -9.35942963e-03,\n",
              "       -6.94755709e-12,  6.52676505e-12, -2.03807202e-02, -2.30380190e-03,\n",
              "        2.65931250e-03, -1.50493495e-02, -2.00488104e-02, -1.30914730e-01,\n",
              "       -2.35396660e-02,  7.18592386e-02, -2.35396660e-02,  2.55746896e-02,\n",
              "        2.55746896e-02, -2.15610610e-11,  1.98753019e-12, -1.43195942e-11,\n",
              "       -1.54363129e-11, -3.42369106e-03, -1.64273903e-10,  1.35696219e-01,\n",
              "       -3.65512548e-02, -1.50994709e-01,  1.28115441e-01,  1.67663098e-01,\n",
              "       -8.42252270e-02, -8.42252270e-02, -2.92422213e-01,  2.58319136e-04,\n",
              "        2.61909651e-12, -6.46797009e-12, -4.91708541e-02,  1.76164594e-02,\n",
              "        1.76164594e-02, -9.88036749e-02,  7.83347147e-03, -1.25086160e-03,\n",
              "        8.26692823e-02, -6.99232339e-13, -1.25086160e-03,  1.15794569e-02,\n",
              "       -1.45498147e-02, -8.11952502e-14,  1.16278731e-13,  2.35004144e-02,\n",
              "       -3.75258481e-03,  2.16916394e-02,  4.66917826e-03,  1.04813142e-02,\n",
              "       -1.02710732e-02, -4.86084563e-10,  3.48705388e-03,  1.77617685e-02,\n",
              "        8.66432051e-03,  5.00514922e-04, -9.78352991e-04,  2.02400939e-03,\n",
              "       -1.32280883e-02, -3.00236227e-03,  7.28743704e-04, -1.12059294e-10,\n",
              "       -1.12059444e-10, -1.24993447e-02,  1.03332428e-02,  2.27847662e-03,\n",
              "       -2.10711247e-02,  1.66055452e-02,  4.99947306e-15, -2.60555466e-15,\n",
              "       -6.91140568e-03,  7.97793749e-03,  5.24248338e-03, -9.75589919e-03,\n",
              "       -5.47961565e-03, -5.47961565e-03,  8.51706285e-03,  8.51706285e-03,\n",
              "        6.93706524e-04,  5.33194695e-03, -5.69286917e-03,  3.32784301e-04,\n",
              "       -1.16148701e-04, -3.10663142e-03,  3.15018390e-03, -7.25962281e-05,\n",
              "        5.77557822e-04,  2.22531553e-03, -2.54268527e-03,  2.60188075e-04,\n",
              "       -5.54417623e-15,  5.50948176e-15,  3.55965257e-15,  1.40165657e-15,\n",
              "       -1.02710732e-02, -4.85740543e-10,  5.57112644e-03,  1.62442525e-02,\n",
              "        3.72371411e-02, -2.63038383e-02, -1.39966785e-02, -1.39966785e-02,\n",
              "        2.64356605e-02,  7.40060522e-04, -2.55351296e-15,  3.38618023e-15,\n",
              "       -7.63923591e-03, -5.67733649e-03,  8.29566734e-04,  8.29566731e-04,\n",
              "       -3.35632473e-03,  2.35004144e-02, -3.75258481e-03,  5.38377009e-03,\n",
              "        1.11022302e-16, -3.75258481e-03,  6.54947943e-03, -3.19734422e-02,\n",
              "        3.18726052e-02, -4.36494440e-02, -9.43689571e-16, -4.16333634e-16,\n",
              "        9.83570241e-05,  3.04655631e-07, -1.93912089e-06,  1.32210470e-06,\n",
              "        7.95083957e-08,  6.42852455e-07,  3.62179993e-07, -1.12041731e-06,\n",
              "       -1.12251478e-07, -1.11182697e-06,  4.15291371e-04, -4.44089210e-16,\n",
              "        7.34922373e-07,  4.54473808e-07,  1.08302015e-05, -9.63859306e-06,\n",
              "       -5.55111512e-17,  1.21777588e-15, -1.93912089e-06, -3.47221870e-07,\n",
              "       -4.19694548e-04,  2.04687994e-05, -1.25306157e-03,  4.44089210e-16,\n",
              "        6.68638279e-08,  9.83570343e-05, -2.55351296e-15, -2.29519192e-07,\n",
              "        4.18078113e-04, -9.99200722e-16,  1.38666401e-04, -1.66533454e-16,\n",
              "        0.00000000e+00,  1.68488803e-02, -3.09182283e-07, -3.70464858e-04,\n",
              "        4.28984392e-01,  3.49276187e-07, -1.61676291e-11,  0.00000000e+00,\n",
              "       -3.59422413e-08,  0.00000000e+00,  1.27879525e-06, -3.62715336e-08,\n",
              "        1.23447800e-03, -1.68488803e-02,  3.09188889e-07, -3.74825119e-04,\n",
              "       -4.28984392e-01, -3.49285987e-07, -1.18557137e-11,  0.00000000e+00,\n",
              "        3.59425338e-08,  0.00000000e+00, -8.98591606e-07, -3.43933449e-07,\n",
              "       -1.23447800e-03,  0.00000000e+00,  0.00000000e+00,  0.00000000e+00,\n",
              "        0.00000000e+00, -1.75095210e-09, -1.70383145e-07,  2.03392555e-06,\n",
              "        1.50517557e-06,  1.18831085e-03, -7.42422813e-03,  0.00000000e+00,\n",
              "        1.03104626e-07, -5.18869814e-06, -4.25918899e-08,  0.00000000e+00,\n",
              "       -1.31001517e-07,  0.00000000e+00, -5.90720731e-12,  0.00000000e+00,\n",
              "        0.00000000e+00,  1.14910389e-07,  6.85583037e-08, -2.57428977e-06,\n",
              "       -1.65185485e-12,  0.00000000e+00,  0.00000000e+00,  0.00000000e+00,\n",
              "       -1.18405475e-12,  0.00000000e+00,  2.37967252e-13, -2.21237091e-02,\n",
              "       -1.09524440e-06,  0.00000000e+00, -3.77758915e-03, -9.71000484e-01,\n",
              "        1.07985197e+00, -1.01160615e+00,  9.16946959e-01, -1.10811838e-02,\n",
              "       -4.95119269e-03, -1.86737437e-05,  0.00000000e+00,  0.00000000e+00,\n",
              "        1.69373263e-03,  2.01135317e-02,  3.58192149e-02, -1.67055111e-02,\n",
              "        1.02053616e-03, -5.93938250e-05,  0.00000000e+00, -4.09772646e-03,\n",
              "        5.56036284e-02,  5.94568888e-03,  3.62294618e-03,  7.31723499e-04,\n",
              "       -8.82800619e-04,  3.65783218e-04,  2.14706095e-04,  1.59104443e-03,\n",
              "       -1.95548824e-03, -7.83372863e-03, -1.15659099e-02, -1.43836042e-02,\n",
              "        1.13820903e-02,  7.32801947e-03, -7.46924177e-11, -8.99233299e-03,\n",
              "        3.19497064e-09,  5.98503580e-04,  7.75065888e-03, -5.25100166e-02,\n",
              "        1.99229025e-03, -2.84218294e-04,  5.68617769e-03, -1.14378465e-03,\n",
              "       -8.15577198e-02,  7.86302004e-02, -3.69388743e-03,  8.59566354e-04,\n",
              "        4.04895905e-02, -3.95326005e-02, -4.10681294e-02,  3.90975999e-02,\n",
              "        0.00000000e+00,  7.31520493e-16,  0.00000000e+00, -5.35662608e-16,\n",
              "        0.00000000e+00,  0.00000000e+00, -1.59138603e-04, -2.79423189e-04,\n",
              "       -1.31317318e-03,  9.52512057e-04, -1.59592434e-10, -1.19563682e-15,\n",
              "        0.00000000e+00,  0.00000000e+00,  0.00000000e+00,  2.71621881e-16,\n",
              "        0.00000000e+00,  1.35810940e-16, -2.86576543e-03, -2.49265495e-03,\n",
              "        1.28733837e-04,  2.21575482e-04,  2.44250800e-04,  5.94560109e-04,\n",
              "        0.00000000e+00,  1.01395071e-07, -1.33216336e-07, -5.14139318e-07,\n",
              "        3.94579476e-07, -1.01359863e-06, -7.59533180e-07, -6.24748208e-06,\n",
              "        3.18860179e-06,  1.04954596e-07, -1.40275793e-08, -2.64249583e-07,\n",
              "        2.00172559e-07,  8.33681920e-08, -1.49946664e-07, -4.54854632e-07,\n",
              "        2.03519997e-07,  8.78339727e-08,  9.75894167e-08, -2.20502122e-07,\n",
              "        1.33698902e-07, -2.89140934e-07,  0.00000000e+00, -1.12041732e-06,\n",
              "       -7.04821667e-07, -2.14901195e-06, -1.74389470e-05,  9.16168935e-06,\n",
              "       -2.83604765e-06,  8.12149636e-06,  0.00000000e+00,  3.05178185e-06,\n",
              "        5.31420045e-06, -5.43511626e-05, -1.39793765e-03,  1.29787545e-03,\n",
              "        6.20981016e-04,  2.55357787e-06,  3.67773729e-06,  1.60268393e-06,\n",
              "       -1.16096766e-06, -3.32865687e-08])"
            ]
          },
          "metadata": {
            "tags": []
          },
          "execution_count": 11
        }
      ]
    },
    {
      "cell_type": "code",
      "metadata": {
        "id": "Z37CV65_opnh",
        "colab_type": "code",
        "colab": {
          "base_uri": "https://localhost:8080/",
          "height": 34
        },
        "outputId": "71c5d311-1a28-4435-c7fc-516637b4fff9"
      },
      "source": [
        "np.mean(abs(sel.estimator_.coef_))"
      ],
      "execution_count": 12,
      "outputs": [
        {
          "output_type": "execute_result",
          "data": {
            "text/plain": [
              "0.022717628641280123"
            ]
          },
          "metadata": {
            "tags": []
          },
          "execution_count": 12
        }
      ]
    },
    {
      "cell_type": "code",
      "metadata": {
        "id": "HV_0LxMZouLV",
        "colab_type": "code",
        "colab": {}
      },
      "source": [
        "# the features that are greater than the mean are only selected"
      ],
      "execution_count": 13,
      "outputs": []
    },
    {
      "cell_type": "code",
      "metadata": {
        "id": "pk-YovpxpHOB",
        "colab_type": "code",
        "colab": {
          "base_uri": "https://localhost:8080/",
          "height": 259
        },
        "outputId": "3f51686f-f1d9-4b3b-ccf8-75326db8a92f"
      },
      "source": [
        "features=X_train.columns[sel.get_support()]\n",
        "features"
      ],
      "execution_count": 14,
      "outputs": [
        {
          "output_type": "execute_result",
          "data": {
            "text/plain": [
              "Index(['ind_var5_0', 'ind_var5', 'ind_var12_0', 'ind_var12', 'ind_var13_largo',\n",
              "       'ind_var13', 'ind_var25_cte', 'ind_var26_0', 'ind_var26_cte',\n",
              "       'ind_var26', 'ind_var25_0', 'ind_var25', 'ind_var30_0', 'ind_var30',\n",
              "       'ind_var31_0', 'ind_var31', 'ind_var32_cte', 'ind_var32_0', 'ind_var32',\n",
              "       'ind_var33_0', 'ind_var37_cte', 'ind_var39_0', 'ind_var41_0',\n",
              "       'num_var1_0', 'num_var31_0', 'num_var31', 'num_var33_0', 'num_var40_0',\n",
              "       'num_var42', 'num_var44_0', 'num_var44', 'delta_imp_compra_var44_1y3',\n",
              "       'delta_num_compra_var44_1y3', 'ind_var10_ult1', 'ind_var10cte_ult1',\n",
              "       'ind_var9_cte_ult1', 'ind_var9_ult1', 'num_aport_var17_hace3',\n",
              "       'num_compra_var44_hace3', 'num_meses_var44_ult3',\n",
              "       'num_op_var40_efect_ult1', 'num_op_var40_efect_ult3',\n",
              "       'num_op_var41_efect_ult1', 'num_op_var41_efect_ult3',\n",
              "       'num_op_var39_efect_ult1', 'num_op_var39_efect_ult3'],\n",
              "      dtype='object')"
            ]
          },
          "metadata": {
            "tags": []
          },
          "execution_count": 14
        }
      ]
    },
    {
      "cell_type": "code",
      "metadata": {
        "id": "qYV8Y8Z0pSU0",
        "colab_type": "code",
        "colab": {
          "base_uri": "https://localhost:8080/",
          "height": 34
        },
        "outputId": "cb6af4cc-5b0e-4a8b-b4f2-b476569d760c"
      },
      "source": [
        "len(features)"
      ],
      "execution_count": 15,
      "outputs": [
        {
          "output_type": "execute_result",
          "data": {
            "text/plain": [
              "46"
            ]
          },
          "metadata": {
            "tags": []
          },
          "execution_count": 15
        }
      ]
    },
    {
      "cell_type": "code",
      "metadata": {
        "id": "nPReCOzKpWBR",
        "colab_type": "code",
        "colab": {}
      },
      "source": [
        "# lets get the transformed features only"
      ],
      "execution_count": 16,
      "outputs": []
    },
    {
      "cell_type": "code",
      "metadata": {
        "id": "FCmWHP48pcqp",
        "colab_type": "code",
        "colab": {}
      },
      "source": [
        "X_train_reg=sel.transform(X_train)\n",
        "X_test_reg=sel.transform(X_test)"
      ],
      "execution_count": 17,
      "outputs": []
    },
    {
      "cell_type": "code",
      "metadata": {
        "id": "TVDBu3ogpi6i",
        "colab_type": "code",
        "colab": {
          "base_uri": "https://localhost:8080/",
          "height": 34
        },
        "outputId": "edc4972b-c4f6-44b2-e92c-251b00c93617"
      },
      "source": [
        "X_train_reg.shape"
      ],
      "execution_count": 18,
      "outputs": [
        {
          "output_type": "execute_result",
          "data": {
            "text/plain": [
              "(14000, 46)"
            ]
          },
          "metadata": {
            "tags": []
          },
          "execution_count": 18
        }
      ]
    },
    {
      "cell_type": "code",
      "metadata": {
        "id": "ZGpHc9yZpnBX",
        "colab_type": "code",
        "colab": {}
      },
      "source": [
        "# we have reduced down to 46 features"
      ],
      "execution_count": 19,
      "outputs": []
    },
    {
      "cell_type": "code",
      "metadata": {
        "id": "-17Z2wYoptrB",
        "colab_type": "code",
        "colab": {}
      },
      "source": [
        "def run_random_forest(X_train,X_test,y_train,y_test):\n",
        "  clf=RandomForestClassifier(n_estimators=100,random_state=0)\n",
        "  clf.fit(X_train,y_train)\n",
        "  y_pred=clf.predict(X_test)\n",
        "  print('AccUracy on test set: ')\n",
        "  print(accuracy_score(y_test,y_pred))"
      ],
      "execution_count": 20,
      "outputs": []
    },
    {
      "cell_type": "markdown",
      "metadata": {
        "id": "xYvAY-t8qAeg",
        "colab_type": "text"
      },
      "source": [
        "Original dataset performance"
      ]
    },
    {
      "cell_type": "code",
      "metadata": {
        "id": "_U6nJy54pyxd",
        "colab_type": "code",
        "colab": {
          "base_uri": "https://localhost:8080/",
          "height": 86
        },
        "outputId": "c37adfa5-6e3c-4901-dee1-6a0a2f936ecd"
      },
      "source": [
        "%%time\n",
        "run_random_forest(X_train,X_test,y_train,y_test)"
      ],
      "execution_count": 21,
      "outputs": [
        {
          "output_type": "stream",
          "text": [
            "AccUracy on test set: \n",
            "0.9581666666666667\n",
            "CPU times: user 3.74 s, sys: 7.58 ms, total: 3.75 s\n",
            "Wall time: 3.76 s\n"
          ],
          "name": "stdout"
        }
      ]
    },
    {
      "cell_type": "code",
      "metadata": {
        "id": "F1cn44U4p_Lb",
        "colab_type": "code",
        "colab": {}
      },
      "source": [
        "#after feature selection"
      ],
      "execution_count": 22,
      "outputs": []
    },
    {
      "cell_type": "code",
      "metadata": {
        "id": "EeCtCErnqGCe",
        "colab_type": "code",
        "colab": {
          "base_uri": "https://localhost:8080/",
          "height": 86
        },
        "outputId": "5e55beff-af8d-453c-da8f-771b3d69957c"
      },
      "source": [
        "%%time\n",
        "run_random_forest(X_train_reg,X_test_reg,y_train,y_test)"
      ],
      "execution_count": 23,
      "outputs": [
        {
          "output_type": "stream",
          "text": [
            "AccUracy on test set: \n",
            "0.9591666666666666\n",
            "CPU times: user 811 ms, sys: 76 µs, total: 811 ms\n",
            "Wall time: 812 ms\n"
          ],
          "name": "stdout"
        }
      ]
    },
    {
      "cell_type": "markdown",
      "metadata": {
        "id": "2XmLKoG2qZiJ",
        "colab_type": "text"
      },
      "source": [
        "We can see an imporovment in both accuracy and training time"
      ]
    },
    {
      "cell_type": "markdown",
      "metadata": {
        "id": "x4c1579QqfYN",
        "colab_type": "text"
      },
      "source": [
        "L1 regularisation"
      ]
    },
    {
      "cell_type": "code",
      "metadata": {
        "id": "4BhtbkLSqNf5",
        "colab_type": "code",
        "colab": {
          "base_uri": "https://localhost:8080/",
          "height": 797
        },
        "outputId": "eed31eed-c969-4c60-e2d9-cbc7081c1de7"
      },
      "source": [
        "sel=SelectFromModel(LogisticRegression(penalty='l1',C=10,solver='liblinear'))\n",
        "sel.fit(X_train,y_train)\n",
        "sel.get_support()"
      ],
      "execution_count": 24,
      "outputs": [
        {
          "output_type": "stream",
          "text": [
            "/usr/local/lib/python3.6/dist-packages/sklearn/svm/_base.py:947: ConvergenceWarning: Liblinear failed to converge, increase the number of iterations.\n",
            "  \"the number of iterations.\", ConvergenceWarning)\n"
          ],
          "name": "stderr"
        },
        {
          "output_type": "execute_result",
          "data": {
            "text/plain": [
              "array([False, False,  True,  True,  True,  True,  True,  True,  True,\n",
              "        True,  True,  True,  True,  True,  True,  True,  True, False,\n",
              "        True,  True, False, False, False, False,  True,  True, False,\n",
              "       False, False, False,  True,  True, False, False, False, False,\n",
              "       False, False, False, False, False, False, False, False, False,\n",
              "       False,  True, False, False,  True, False,  True,  True, False,\n",
              "        True, False, False, False, False, False, False, False, False,\n",
              "        True,  True, False, False,  True, False, False, False, False,\n",
              "       False, False,  True,  True,  True,  True, False, False, False,\n",
              "       False, False, False, False, False, False,  True, False,  True,\n",
              "        True, False, False, False,  True,  True,  True, False,  True,\n",
              "        True, False, False, False, False, False, False,  True,  True,\n",
              "       False, False, False, False,  True, False,  True,  True, False,\n",
              "       False,  True,  True,  True, False, False,  True,  True,  True,\n",
              "       False, False, False,  True, False,  True, False, False, False,\n",
              "       False, False, False, False,  True,  True, False, False, False,\n",
              "       False, False, False, False,  True,  True,  True,  True,  True,\n",
              "        True, False,  True, False, False, False,  True, False, False,\n",
              "       False, False,  True,  True,  True,  True, False,  True,  True,\n",
              "        True,  True,  True, False, False,  True, False,  True,  True,\n",
              "       False, False,  True, False,  True,  True, False, False,  True,\n",
              "        True, False, False, False, False,  True, False, False, False,\n",
              "       False, False, False, False, False, False, False, False, False,\n",
              "       False, False, False, False, False, False, False, False, False,\n",
              "       False, False, False, False, False, False, False, False, False,\n",
              "        True,  True, False, False, False, False, False,  True, False,\n",
              "       False, False, False, False, False, False, False,  True, False,\n",
              "       False, False, False, False, False, False, False, False, False,\n",
              "       False, False, False,  True,  True,  True,  True,  True,  True,\n",
              "        True, False, False,  True, False, False, False, False, False,\n",
              "       False,  True, False, False,  True,  True,  True,  True,  True,\n",
              "        True,  True,  True,  True,  True, False, False, False, False,\n",
              "       False, False,  True, False,  True,  True,  True, False,  True,\n",
              "        True, False,  True,  True,  True, False, False, False, False,\n",
              "       False, False, False, False,  True,  True,  True,  True, False,\n",
              "       False, False, False, False, False, False, False, False, False,\n",
              "        True,  True,  True,  True, False, False,  True,  True,  True,\n",
              "        True,  True,  True,  True, False,  True,  True,  True,  True,\n",
              "        True,  True,  True,  True, False, False, False, False, False,\n",
              "        True, False, False, False, False, False, False, False, False,\n",
              "       False, False, False, False, False, False, False, False, False,\n",
              "       False])"
            ]
          },
          "metadata": {
            "tags": []
          },
          "execution_count": 24
        }
      ]
    },
    {
      "cell_type": "code",
      "metadata": {
        "id": "4uC_p9xgrDAM",
        "colab_type": "code",
        "colab": {
          "base_uri": "https://localhost:8080/",
          "height": 1000
        },
        "outputId": "0d4881f0-af10-48c9-80c4-6d7c39a47bc7"
      },
      "source": [
        "sel.estimator_.coef_"
      ],
      "execution_count": 25,
      "outputs": [
        {
          "output_type": "execute_result",
          "data": {
            "text/plain": [
              "array([[ 3.38490106e-06,  9.42726374e-06,  3.83492473e-02,\n",
              "        -6.84225696e-05,  6.06852214e-04, -5.24486574e-04,\n",
              "        -4.92608562e-03,  1.60178069e-03,  9.61814807e-03,\n",
              "        -1.25754171e-02,  6.29672003e-04,  9.11571009e-04,\n",
              "        -5.96461371e-04,  2.39276030e-04, -1.10180990e-04,\n",
              "        -4.40371192e-05,  3.17673874e-04,  9.24586206e-06,\n",
              "        -1.35116767e-04, -2.61072544e-03,  0.00000000e+00,\n",
              "         0.00000000e+00,  0.00000000e+00,  0.00000000e+00,\n",
              "        -1.39490668e+00, -2.32721838e-01,  0.00000000e+00,\n",
              "         0.00000000e+00,  0.00000000e+00,  0.00000000e+00,\n",
              "        -4.36986724e+00,  2.36174733e-01,  0.00000000e+00,\n",
              "         0.00000000e+00,  0.00000000e+00,  0.00000000e+00,\n",
              "         0.00000000e+00,  0.00000000e+00,  0.00000000e+00,\n",
              "         0.00000000e+00,  0.00000000e+00,  0.00000000e+00,\n",
              "         0.00000000e+00,  0.00000000e+00,  0.00000000e+00,\n",
              "         0.00000000e+00,  6.56467577e-01,  0.00000000e+00,\n",
              "         0.00000000e+00,  6.62096364e-01,  0.00000000e+00,\n",
              "        -1.02105891e+00, -4.28751198e-01,  0.00000000e+00,\n",
              "        -3.95772141e-02,  0.00000000e+00,  0.00000000e+00,\n",
              "         0.00000000e+00,  0.00000000e+00,  0.00000000e+00,\n",
              "         0.00000000e+00,  0.00000000e+00,  0.00000000e+00,\n",
              "         7.50003539e+00, -2.43641158e-01,  0.00000000e+00,\n",
              "         0.00000000e+00,  1.84996255e+00,  0.00000000e+00,\n",
              "         0.00000000e+00,  0.00000000e+00,  0.00000000e+00,\n",
              "         0.00000000e+00,  0.00000000e+00, -7.72899819e-01,\n",
              "         1.58367094e-01,  1.69207706e-01, -4.52390608e-01,\n",
              "         0.00000000e+00,  0.00000000e+00,  0.00000000e+00,\n",
              "         0.00000000e+00,  0.00000000e+00,  0.00000000e+00,\n",
              "         0.00000000e+00,  0.00000000e+00,  0.00000000e+00,\n",
              "         5.20555188e-01,  0.00000000e+00,  4.18380230e-01,\n",
              "         2.05955403e-01,  0.00000000e+00,  0.00000000e+00,\n",
              "         0.00000000e+00, -1.52318726e-01,  1.30662324e-01,\n",
              "         5.80813696e-01,  0.00000000e+00, -8.58052257e-01,\n",
              "        -9.29128083e-02,  0.00000000e+00,  0.00000000e+00,\n",
              "         0.00000000e+00,  0.00000000e+00,  0.00000000e+00,\n",
              "         0.00000000e+00,  2.49508522e-01,  6.32629110e-01,\n",
              "         0.00000000e+00,  0.00000000e+00,  0.00000000e+00,\n",
              "         0.00000000e+00, -2.32216990e-01,  0.00000000e+00,\n",
              "         3.17017423e-01, -1.55947683e-01,  0.00000000e+00,\n",
              "         0.00000000e+00,  6.69718282e-02,  1.33122936e-01,\n",
              "        -6.53742541e-01,  0.00000000e+00,  0.00000000e+00,\n",
              "        -1.46465469e-01,  4.53087416e-02, -7.55632635e-04,\n",
              "         0.00000000e+00,  0.00000000e+00,  0.00000000e+00,\n",
              "        -3.13276661e-03,  0.00000000e+00, -5.65907715e-03,\n",
              "         0.00000000e+00,  0.00000000e+00,  0.00000000e+00,\n",
              "         0.00000000e+00,  0.00000000e+00,  0.00000000e+00,\n",
              "         0.00000000e+00,  2.29484440e-01, -2.97227188e+00,\n",
              "         0.00000000e+00,  0.00000000e+00,  0.00000000e+00,\n",
              "         0.00000000e+00,  0.00000000e+00,  0.00000000e+00,\n",
              "         0.00000000e+00, -1.12553689e-01, -2.85205296e-01,\n",
              "         6.16748710e-02,  6.65292742e-02, -8.72082872e-02,\n",
              "         4.50887048e-01,  0.00000000e+00,  1.39953716e-01,\n",
              "         0.00000000e+00,  0.00000000e+00,  0.00000000e+00,\n",
              "        -1.90131474e-01,  0.00000000e+00,  0.00000000e+00,\n",
              "         0.00000000e+00,  0.00000000e+00,  1.41220805e-03,\n",
              "        -3.09842937e-05, -4.12041920e-04, -1.25756187e-04,\n",
              "        -2.71876844e-06, -2.95903822e-05, -1.07219371e-03,\n",
              "        -7.87892029e-05, -3.10845967e-05, -9.54553692e-05,\n",
              "         0.00000000e+00,  0.00000000e+00, -2.02147956e-02,\n",
              "        -2.31755293e-06,  4.63749523e-05,  5.07619165e-05,\n",
              "         0.00000000e+00,  0.00000000e+00, -3.91641361e-04,\n",
              "        -3.63306053e-06, -2.26918146e-04, -1.63994438e-02,\n",
              "         0.00000000e+00,  0.00000000e+00,  3.74537609e-05,\n",
              "         1.43797757e-03,  0.00000000e+00, -4.27367914e-06,\n",
              "         0.00000000e+00,  0.00000000e+00,  3.93447376e-03,\n",
              "         0.00000000e+00,  0.00000000e+00,  2.28962361e-10,\n",
              "        -3.46269617e-10,  0.00000000e+00, -1.07906794e-09,\n",
              "        -2.17002323e-09,  0.00000000e+00,  0.00000000e+00,\n",
              "        -9.39337522e-16,  0.00000000e+00,  0.00000000e+00,\n",
              "         0.00000000e+00, -2.65088151e-10, -1.39021321e-11,\n",
              "        -5.44954400e-10,  0.00000000e+00, -2.60167799e-10,\n",
              "        -1.12614502e-09,  0.00000000e+00,  0.00000000e+00,\n",
              "         0.00000000e+00,  0.00000000e+00,  0.00000000e+00,\n",
              "         0.00000000e+00, -4.13818690e-10,  0.00000000e+00,\n",
              "         0.00000000e+00,  0.00000000e+00,  0.00000000e+00,\n",
              "         3.37322311e-04,  7.60526642e-05,  0.00000000e+00,\n",
              "         0.00000000e+00,  0.00000000e+00,  0.00000000e+00,\n",
              "         0.00000000e+00,  1.26878859e-05,  0.00000000e+00,\n",
              "         0.00000000e+00,  0.00000000e+00,  0.00000000e+00,\n",
              "         0.00000000e+00,  0.00000000e+00,  0.00000000e+00,\n",
              "         0.00000000e+00, -1.28497758e-05,  6.21526925e-06,\n",
              "         0.00000000e+00,  0.00000000e+00,  0.00000000e+00,\n",
              "         0.00000000e+00,  0.00000000e+00,  0.00000000e+00,\n",
              "         0.00000000e+00,  0.00000000e+00,  0.00000000e+00,\n",
              "         0.00000000e+00,  0.00000000e+00,  0.00000000e+00,\n",
              "        -4.70482891e+00,  8.16404933e+00, -6.88988509e+00,\n",
              "         3.70523828e+00, -1.13351148e-01,  2.94670390e-03,\n",
              "        -4.05067176e-04,  0.00000000e+00,  0.00000000e+00,\n",
              "         5.97542038e-01,  0.00000000e+00,  0.00000000e+00,\n",
              "         0.00000000e+00,  0.00000000e+00,  0.00000000e+00,\n",
              "         0.00000000e+00, -1.91381834e+00,  0.00000000e+00,\n",
              "         0.00000000e+00,  1.05780699e-01,  3.06808742e-02,\n",
              "         4.83733381e-04, -2.23786190e-03,  1.89529675e-02,\n",
              "        -1.01214470e-02, -8.59271824e-02, -3.14909233e-01,\n",
              "        -2.09486792e-01, -1.32306770e-01,  0.00000000e+00,\n",
              "         0.00000000e+00,  0.00000000e+00,  0.00000000e+00,\n",
              "         0.00000000e+00,  0.00000000e+00,  2.64534603e-01,\n",
              "         0.00000000e+00,  4.18953342e-03, -5.60149332e-03,\n",
              "         4.14465072e-02,  0.00000000e+00, -4.54974489e+00,\n",
              "         4.37431117e+00,  0.00000000e+00, -1.04412012e-03,\n",
              "         3.56864580e-02, -3.01788435e-02,  0.00000000e+00,\n",
              "         0.00000000e+00,  0.00000000e+00,  0.00000000e+00,\n",
              "         0.00000000e+00,  0.00000000e+00,  0.00000000e+00,\n",
              "         0.00000000e+00,  1.16624767e+00, -2.14605877e-02,\n",
              "        -4.73725404e-02,  2.35564709e-03,  0.00000000e+00,\n",
              "         0.00000000e+00,  0.00000000e+00,  0.00000000e+00,\n",
              "         0.00000000e+00,  0.00000000e+00,  0.00000000e+00,\n",
              "         0.00000000e+00,  0.00000000e+00,  0.00000000e+00,\n",
              "         4.55788947e-03,  1.17213118e-02,  1.14331806e-02,\n",
              "         2.27972484e-02,  0.00000000e+00,  8.63091148e-06,\n",
              "        -1.65450241e-04, -7.48088263e-05,  8.64805386e-05,\n",
              "        -4.20487219e-04, -4.57085469e-05, -6.66839037e-04,\n",
              "         7.03272377e-04,  3.17219336e-06, -4.76002106e-05,\n",
              "        -5.54253074e-05,  6.90389032e-05, -1.89106486e-04,\n",
              "        -1.28592717e-04, -2.30842840e-04,  1.93668564e-04,\n",
              "        -1.00837800e-03,  0.00000000e+00,  0.00000000e+00,\n",
              "         0.00000000e+00,  0.00000000e+00,  0.00000000e+00,\n",
              "        -2.09092262e-04,  0.00000000e+00,  0.00000000e+00,\n",
              "         0.00000000e+00,  0.00000000e+00,  0.00000000e+00,\n",
              "         0.00000000e+00,  0.00000000e+00,  0.00000000e+00,\n",
              "         0.00000000e+00,  0.00000000e+00,  0.00000000e+00,\n",
              "         0.00000000e+00,  0.00000000e+00,  0.00000000e+00,\n",
              "         0.00000000e+00,  0.00000000e+00,  0.00000000e+00,\n",
              "        -5.04399845e-06]])"
            ]
          },
          "metadata": {
            "tags": []
          },
          "execution_count": 25
        }
      ]
    },
    {
      "cell_type": "code",
      "metadata": {
        "id": "pKvwXuCSr3tF",
        "colab_type": "code",
        "colab": {
          "base_uri": "https://localhost:8080/",
          "height": 224
        },
        "outputId": "3773cde4-ee96-46e7-9387-dacd48e1b0e9"
      },
      "source": [
        "l1_features=X_train.columns[sel.get_support()]\n",
        "l1_features"
      ],
      "execution_count": 26,
      "outputs": [
        {
          "output_type": "execute_result",
          "data": {
            "text/plain": [
              "Index(['var15', 'imp_ent_var16_ult1', 'imp_op_var39_comer_ult1',\n",
              "       'imp_op_var39_comer_ult3', 'imp_op_var40_comer_ult1',\n",
              "       'imp_op_var40_comer_ult3', 'imp_op_var40_efect_ult1',\n",
              "       'imp_op_var40_efect_ult3', 'imp_op_var40_ult1',\n",
              "       'imp_op_var41_comer_ult1',\n",
              "       ...\n",
              "       'saldo_medio_var8_ult3', 'saldo_medio_var12_hace3',\n",
              "       'saldo_medio_var12_ult1', 'saldo_medio_var12_ult3',\n",
              "       'saldo_medio_var13_corto_hace2', 'saldo_medio_var13_corto_hace3',\n",
              "       'saldo_medio_var13_corto_ult1', 'saldo_medio_var13_corto_ult3',\n",
              "       'saldo_medio_var13_largo_hace2', 'saldo_medio_var13_medio_ult1'],\n",
              "      dtype='object', length=138)"
            ]
          },
          "metadata": {
            "tags": []
          },
          "execution_count": 26
        }
      ]
    },
    {
      "cell_type": "code",
      "metadata": {
        "id": "LEyCWsJ6r7u6",
        "colab_type": "code",
        "colab": {
          "base_uri": "https://localhost:8080/",
          "height": 34
        },
        "outputId": "12b46c50-8150-4ef1-c1ef-8d5f78dd3ed5"
      },
      "source": [
        "len(l1_features)"
      ],
      "execution_count": 27,
      "outputs": [
        {
          "output_type": "execute_result",
          "data": {
            "text/plain": [
              "138"
            ]
          },
          "metadata": {
            "tags": []
          },
          "execution_count": 27
        }
      ]
    },
    {
      "cell_type": "code",
      "metadata": {
        "id": "R9wXu5H3sJ2w",
        "colab_type": "code",
        "colab": {}
      },
      "source": [
        "X_train_l1=sel.transform(X_train)\n",
        "X_test_l1=sel.transform(X_test)"
      ],
      "execution_count": 28,
      "outputs": []
    },
    {
      "cell_type": "code",
      "metadata": {
        "id": "Yo8Y9k5msSA2",
        "colab_type": "code",
        "colab": {
          "base_uri": "https://localhost:8080/",
          "height": 86
        },
        "outputId": "263dcfb1-4f9d-455a-a32f-5f6fd580f1a0"
      },
      "source": [
        "%%time\n",
        "run_random_forest(X_train_l1,X_test_l1,y_train,y_test)"
      ],
      "execution_count": 29,
      "outputs": [
        {
          "output_type": "stream",
          "text": [
            "AccUracy on test set: \n",
            "0.9556666666666667\n",
            "CPU times: user 2.51 s, sys: 4.99 ms, total: 2.51 s\n",
            "Wall time: 2.52 s\n"
          ],
          "name": "stdout"
        }
      ]
    },
    {
      "cell_type": "code",
      "metadata": {
        "id": "1bBNoO_2skjb",
        "colab_type": "code",
        "colab": {}
      },
      "source": [
        "# orginal"
      ],
      "execution_count": 30,
      "outputs": []
    },
    {
      "cell_type": "code",
      "metadata": {
        "id": "Z5cslM1isxfA",
        "colab_type": "code",
        "colab": {
          "base_uri": "https://localhost:8080/",
          "height": 86
        },
        "outputId": "06c3e780-7d9f-4e10-e0e9-3ed022137384"
      },
      "source": [
        "%%time\n",
        "run_random_forest(X_train,X_test,y_train,y_test)"
      ],
      "execution_count": 31,
      "outputs": [
        {
          "output_type": "stream",
          "text": [
            "AccUracy on test set: \n",
            "0.9581666666666667\n",
            "CPU times: user 3.72 s, sys: 5.98 ms, total: 3.73 s\n",
            "Wall time: 3.74 s\n"
          ],
          "name": "stdout"
        }
      ]
    },
    {
      "cell_type": "code",
      "metadata": {
        "id": "c4Sgk2qrszQQ",
        "colab_type": "code",
        "colab": {}
      },
      "source": [
        ""
      ],
      "execution_count": 31,
      "outputs": []
    },
    {
      "cell_type": "markdown",
      "metadata": {
        "id": "GbJ9an8Bs31e",
        "colab_type": "text"
      },
      "source": [
        "L2 Regularisation"
      ]
    },
    {
      "cell_type": "code",
      "metadata": {
        "id": "WaI-CV3-s57n",
        "colab_type": "code",
        "colab": {
          "base_uri": "https://localhost:8080/",
          "height": 743
        },
        "outputId": "5d895fb8-3be4-4ad0-ec67-4c60a0734969"
      },
      "source": [
        "sel=SelectFromModel(LogisticRegression(penalty='l2',C=0.05,solver='liblinear'))\n",
        "sel.fit(X_train,y_train)\n",
        "sel.get_support()"
      ],
      "execution_count": 32,
      "outputs": [
        {
          "output_type": "execute_result",
          "data": {
            "text/plain": [
              "array([ True,  True, False,  True, False,  True, False, False, False,\n",
              "       False, False, False,  True,  True,  True,  True,  True,  True,\n",
              "        True, False, False, False, False, False, False, False, False,\n",
              "       False, False, False, False, False, False, False, False, False,\n",
              "       False, False, False, False, False, False, False, False, False,\n",
              "       False, False, False, False, False, False, False, False, False,\n",
              "       False, False, False, False, False, False, False, False, False,\n",
              "       False, False, False, False, False, False, False, False, False,\n",
              "       False, False, False, False, False, False, False, False, False,\n",
              "       False, False, False, False, False, False, False, False, False,\n",
              "       False, False, False, False, False, False, False, False, False,\n",
              "       False, False, False, False, False, False, False, False, False,\n",
              "       False, False, False, False, False, False, False, False, False,\n",
              "       False, False, False, False, False, False, False, False, False,\n",
              "       False, False, False, False, False, False, False, False, False,\n",
              "       False, False, False, False, False, False, False, False, False,\n",
              "       False, False, False, False, False, False, False, False, False,\n",
              "       False, False, False, False, False, False, False, False, False,\n",
              "       False, False, False,  True, False, False,  True,  True,  True,\n",
              "       False,  True,  True,  True, False, False,  True,  True,  True,\n",
              "       False, False, False,  True,  True, False, False, False, False,\n",
              "       False, False,  True, False, False, False, False, False, False,\n",
              "       False, False, False, False, False, False, False, False, False,\n",
              "       False, False, False, False, False, False, False, False, False,\n",
              "       False, False, False, False, False, False, False, False, False,\n",
              "        True,  True, False, False, False, False, False, False, False,\n",
              "       False, False, False, False, False, False, False,  True,  True,\n",
              "       False, False, False, False, False, False, False, False, False,\n",
              "       False, False, False, False, False, False, False, False, False,\n",
              "       False, False, False, False, False, False, False, False, False,\n",
              "       False, False, False, False, False, False, False, False, False,\n",
              "       False, False, False, False, False, False, False, False, False,\n",
              "       False, False, False, False, False, False, False, False, False,\n",
              "       False, False, False, False, False, False, False, False, False,\n",
              "       False, False, False, False, False, False, False, False, False,\n",
              "       False, False, False, False, False, False, False, False, False,\n",
              "       False, False, False, False, False,  True,  True,  True,  True,\n",
              "        True, False, False, False, False,  True,  True,  True,  True,\n",
              "       False,  True,  True,  True, False,  True,  True, False, False,\n",
              "       False, False, False, False, False, False, False, False, False,\n",
              "       False, False, False, False, False, False, False, False, False,\n",
              "        True])"
            ]
          },
          "metadata": {
            "tags": []
          },
          "execution_count": 32
        }
      ]
    },
    {
      "cell_type": "code",
      "metadata": {
        "id": "uhXJaKUOtDHc",
        "colab_type": "code",
        "colab": {
          "base_uri": "https://localhost:8080/",
          "height": 1000
        },
        "outputId": "0b2d9741-be5e-41f1-f149-4f5e445312c7"
      },
      "source": [
        "sel.estimator_.coef_"
      ],
      "execution_count": 33,
      "outputs": [
        {
          "output_type": "execute_result",
          "data": {
            "text/plain": [
              "array([[-4.31596103e-05,  3.82952718e-06, -1.91490205e-07,\n",
              "        -1.07366065e-06,  5.66382951e-08, -1.10679518e-06,\n",
              "         9.41575858e-08, -1.34236824e-08,  1.93697003e-07,\n",
              "         3.27519044e-07,  2.15375451e-07, -3.75192907e-08,\n",
              "        -1.09337150e-06,  3.31746537e-06,  4.19832049e-06,\n",
              "         3.41567503e-06,  3.51116237e-06,  4.52583953e-06,\n",
              "         3.63105048e-06, -1.18083030e-07,  3.61899567e-10,\n",
              "         2.54417107e-10,  0.00000000e+00,  0.00000000e+00,\n",
              "        -1.59483090e-08, -2.24150647e-08, -1.75675384e-11,\n",
              "        -1.11059613e-11,  1.11665982e-09,  7.77787457e-10,\n",
              "        -6.46597366e-10, -3.64067345e-10, -3.05818023e-10,\n",
              "        -2.09760601e-10, -2.62159169e-10, -9.64226916e-11,\n",
              "        -9.13649708e-11, -2.68410135e-12, -2.68410135e-12,\n",
              "        -3.53182248e-10, -1.16839565e-10, -4.56340559e-11,\n",
              "        -4.40566366e-11, -3.30095987e-11,  0.00000000e+00,\n",
              "         0.00000000e+00,  9.12327227e-11, -9.81898571e-11,\n",
              "        -6.72997543e-11, -3.26594983e-10, -2.56319710e-10,\n",
              "         4.35275130e-10,  2.95651649e-10,  4.68130394e-10,\n",
              "         2.95651649e-10,  3.21253556e-10,  3.21253556e-10,\n",
              "         0.00000000e+00,  0.00000000e+00,  0.00000000e+00,\n",
              "         0.00000000e+00, -1.75675384e-11, -1.11059613e-11,\n",
              "        -1.49236545e-08, -2.19833203e-08, -8.58328954e-11,\n",
              "        -6.72201911e-11,  3.14709487e-11, -2.69862230e-11,\n",
              "        -2.69862230e-11, -2.68578446e-11, -1.92921782e-11,\n",
              "         0.00000000e+00,  0.00000000e+00, -1.24485074e-09,\n",
              "        -1.29271987e-09, -1.29271987e-09, -1.35976455e-08,\n",
              "         3.61899567e-10,  2.54417107e-10, -1.34934997e-08,\n",
              "         0.00000000e+00,  2.54417107e-10, -1.86967751e-11,\n",
              "        -1.86967751e-11,  0.00000000e+00,  0.00000000e+00,\n",
              "         1.08569870e-09,  7.63251321e-10, -2.59712854e-08,\n",
              "        -4.73043673e-08, -6.73262872e-08, -5.27026153e-11,\n",
              "        -3.33178839e-11,  3.34997945e-09,  2.33336237e-09,\n",
              "        -1.62737093e-09, -1.11025827e-09, -9.37687038e-10,\n",
              "        -6.32972057e-10, -7.86477506e-10, -2.96662677e-10,\n",
              "        -2.78721517e-10, -8.05230404e-12, -8.05230404e-12,\n",
              "        -1.07325133e-09, -3.52640262e-10, -1.39023734e-10,\n",
              "        -4.11784002e-10, -3.78642888e-10,  0.00000000e+00,\n",
              "         0.00000000e+00, -2.94569571e-10, -2.01899263e-10,\n",
              "        -9.80161092e-10, -7.69335273e-10,  1.89242744e-09,\n",
              "         1.89242744e-09,  2.02450988e-09,  2.02450988e-09,\n",
              "        -2.94156560e-10, -8.96832541e-12,  7.88848040e-10,\n",
              "         4.85723155e-10, -6.74044768e-09, -3.62268503e-09,\n",
              "        -1.52716928e-08, -2.56348255e-08, -7.03460424e-09,\n",
              "        -3.63165336e-09, -1.44828448e-08, -2.51491024e-08,\n",
              "         0.00000000e+00,  0.00000000e+00,  0.00000000e+00,\n",
              "         0.00000000e+00, -5.27026153e-11, -3.33178839e-11,\n",
              "        -4.65721484e-08, -6.72097523e-08, -5.84913037e-10,\n",
              "        -5.06396917e-10, -1.32082441e-10, -1.32082441e-10,\n",
              "        -1.11172099e-10, -7.16637037e-11,  0.00000000e+00,\n",
              "         0.00000000e+00, -7.89164487e-08, -7.90995704e-09,\n",
              "        -1.05786219e-08, -1.05786219e-08, -3.95895227e-08,\n",
              "         1.08569870e-09,  7.63251321e-10, -4.06872020e-08,\n",
              "         0.00000000e+00,  7.63251321e-10, -4.56344614e-08,\n",
              "        -6.68298332e-08, -6.19569362e-11, -5.60903252e-11,\n",
              "         0.00000000e+00,  0.00000000e+00,  4.48407774e-07,\n",
              "        -1.24343138e-05, -1.33011656e-07, -6.68087928e-07,\n",
              "         4.21686497e-06, -4.74397214e-06, -4.38619361e-06,\n",
              "        -8.05230404e-08, -9.21068879e-06, -1.13729585e-06,\n",
              "        -7.60559898e-07,  0.00000000e+00, -3.48192316e-07,\n",
              "         5.70235313e-06,  1.47710236e-06,  1.54495049e-06,\n",
              "         0.00000000e+00,  0.00000000e+00, -1.33011656e-07,\n",
              "        -1.82292372e-05, -1.52623502e-06, -6.78481342e-08,\n",
              "        -1.58812919e-07,  0.00000000e+00, -4.23925256e-07,\n",
              "         4.48407774e-07,  0.00000000e+00, -9.01854839e-06,\n",
              "        -6.06862200e-07,  0.00000000e+00,  2.09164269e-07,\n",
              "         0.00000000e+00,  0.00000000e+00,  3.50396891e-11,\n",
              "        -1.09350223e-09,  1.37103989e-11, -1.11446012e-09,\n",
              "        -1.05411142e-09, -7.36042258e-11,  0.00000000e+00,\n",
              "        -5.39084738e-11,  0.00000000e+00, -4.22641335e-11,\n",
              "        -4.22641335e-11, -9.86159713e-10,  3.49994312e-11,\n",
              "        -1.09350223e-09,  1.20648515e-11, -1.11421791e-09,\n",
              "        -1.05411142e-09, -7.36042258e-11,  0.00000000e+00,\n",
              "        -5.39084738e-11,  0.00000000e+00, -4.22641335e-11,\n",
              "        -4.22641335e-11, -9.91210672e-10,  0.00000000e+00,\n",
              "         0.00000000e+00,  0.00000000e+00,  0.00000000e+00,\n",
              "        -1.64667423e-06,  3.61231144e-06, -2.61664985e-08,\n",
              "        -9.06799873e-15, -6.20182286e-08, -2.80187796e-09,\n",
              "         0.00000000e+00, -6.76862699e-07, -8.73994668e-08,\n",
              "        -2.57241711e-09,  0.00000000e+00, -7.07155517e-15,\n",
              "         0.00000000e+00, -4.15095153e-16,  0.00000000e+00,\n",
              "         0.00000000e+00,  3.70008334e-06,  5.25162916e-06,\n",
              "        -3.38395335e-10, -7.73974263e-17,  0.00000000e+00,\n",
              "         0.00000000e+00,  0.00000000e+00, -2.28226321e-17,\n",
              "         0.00000000e+00, -1.26792401e-17, -4.52902364e-11,\n",
              "        -2.90632550e-10,  0.00000000e+00, -3.19506557e-11,\n",
              "        -1.00415284e-09, -7.45985045e-10, -8.51355332e-10,\n",
              "        -1.04423135e-09, -1.15416730e-09, -2.63273604e-09,\n",
              "         5.78603426e-07,  0.00000000e+00,  0.00000000e+00,\n",
              "        -3.16463814e-10, -1.03842135e-12, -2.58759516e-11,\n",
              "        -7.12055244e-19, -7.54208460e-11, -2.24150237e-11,\n",
              "         0.00000000e+00, -1.43630520e-10, -3.03507476e-11,\n",
              "        -4.13145568e-11, -1.86998499e-09,  1.81367472e-09,\n",
              "        -6.72262474e-09,  9.58308396e-10, -3.95064162e-09,\n",
              "         3.45325099e-09, -1.06110937e-08, -6.57417687e-08,\n",
              "         1.41048104e-09, -1.01366951e-09, -5.27622160e-10,\n",
              "        -1.65578855e-10, -5.36820269e-12, -8.25688799e-11,\n",
              "        -1.11059613e-11, -4.27142563e-11, -2.19664890e-08,\n",
              "        -4.55549289e-11, -2.09551469e-08, -3.86453779e-08,\n",
              "        -4.77951194e-10, -2.46500571e-09,  1.00282447e-09,\n",
              "         1.70108194e-09, -2.04771957e-08, -3.61803722e-08,\n",
              "         2.31524083e-09, -6.34609640e-10,  3.31806530e-09,\n",
              "         1.06647230e-09,  0.00000000e+00, -3.16233426e-19,\n",
              "         0.00000000e+00, -2.20812677e-20,  0.00000000e+00,\n",
              "         0.00000000e+00,  8.60102546e-11, -3.04991632e-09,\n",
              "        -1.47915875e-08, -8.99812445e-10, -2.09789399e-14,\n",
              "        -1.61735911e-20,  0.00000000e+00,  0.00000000e+00,\n",
              "         0.00000000e+00, -2.53584801e-20,  0.00000000e+00,\n",
              "        -1.26792401e-20, -5.86661093e-12, -5.27994987e-11,\n",
              "        -1.34370710e-08, -3.55124012e-08, -5.44902643e-09,\n",
              "        -5.43984985e-08,  0.00000000e+00,  3.31991371e-06,\n",
              "        -3.94600791e-06, -8.10212049e-06, -9.87309538e-07,\n",
              "        -1.04700846e-06, -2.69567739e-08, -3.18587752e-07,\n",
              "        -1.61651786e-07,  4.94534972e-07, -2.96906799e-06,\n",
              "         2.72716277e-06,  7.38725314e-06, -4.11637986e-06,\n",
              "        -6.59197331e-07, -7.26394010e-06, -5.50832792e-06,\n",
              "        -2.18811585e-06, -2.83739154e-07, -2.56782291e-06,\n",
              "        -1.95068459e-06, -2.07801784e-08,  0.00000000e+00,\n",
              "        -8.05230404e-08, -5.06516497e-08, -1.77320185e-07,\n",
              "        -1.19461383e-09, -5.60813453e-07, -3.64389657e-07,\n",
              "        -3.38430316e-18,  0.00000000e+00, -3.73766685e-08,\n",
              "        -3.73766685e-08, -9.52247464e-08, -3.73431034e-08,\n",
              "        -1.55898276e-07, -1.15791555e-07, -2.72050177e-07,\n",
              "        -1.14788096e-08, -6.12897626e-07, -4.03512373e-07,\n",
              "        -2.24665260e-05]])"
            ]
          },
          "metadata": {
            "tags": []
          },
          "execution_count": 33
        }
      ]
    },
    {
      "cell_type": "code",
      "metadata": {
        "id": "UIXU8p0atGIn",
        "colab_type": "code",
        "colab": {
          "base_uri": "https://localhost:8080/",
          "height": 328
        },
        "outputId": "53f21a93-3102-429f-ba1b-0b81e549a47d"
      },
      "source": [
        "l2_features=X_train.columns[sel.get_support()]\n",
        "l2_features"
      ],
      "execution_count": 34,
      "outputs": [
        {
          "output_type": "execute_result",
          "data": {
            "text/plain": [
              "Index(['ID', 'var3', 'imp_ent_var16_ult1', 'imp_op_var39_comer_ult3',\n",
              "       'imp_op_var41_comer_ult3', 'imp_op_var41_efect_ult1',\n",
              "       'imp_op_var41_efect_ult3', 'imp_op_var41_ult1',\n",
              "       'imp_op_var39_efect_ult1', 'imp_op_var39_efect_ult3',\n",
              "       'imp_op_var39_ult1', 'saldo_var5', 'saldo_var12', 'saldo_var13_corto',\n",
              "       'saldo_var13_largo', 'saldo_var13', 'saldo_var14', 'saldo_var17',\n",
              "       'saldo_var24', 'saldo_var26', 'saldo_var25', 'saldo_var30',\n",
              "       'saldo_var31', 'saldo_var42', 'imp_aport_var13_hace3',\n",
              "       'imp_aport_var13_ult1', 'imp_var43_emit_ult1', 'imp_trans_var37_ult1',\n",
              "       'saldo_medio_var5_hace2', 'saldo_medio_var5_hace3',\n",
              "       'saldo_medio_var5_ult1', 'saldo_medio_var5_ult3',\n",
              "       'saldo_medio_var8_hace2', 'saldo_medio_var12_hace3',\n",
              "       'saldo_medio_var12_ult1', 'saldo_medio_var12_ult3',\n",
              "       'saldo_medio_var13_corto_hace2', 'saldo_medio_var13_corto_ult1',\n",
              "       'saldo_medio_var13_corto_ult3', 'saldo_medio_var13_largo_hace2',\n",
              "       'saldo_medio_var13_largo_ult1', 'saldo_medio_var13_largo_ult3',\n",
              "       'var38'],\n",
              "      dtype='object')"
            ]
          },
          "metadata": {
            "tags": []
          },
          "execution_count": 34
        }
      ]
    },
    {
      "cell_type": "code",
      "metadata": {
        "id": "kriYV6o3tL94",
        "colab_type": "code",
        "colab": {
          "base_uri": "https://localhost:8080/",
          "height": 34
        },
        "outputId": "0af66a71-9a08-4382-fd55-74cdaab34c93"
      },
      "source": [
        "len(l2_features)"
      ],
      "execution_count": 35,
      "outputs": [
        {
          "output_type": "execute_result",
          "data": {
            "text/plain": [
              "43"
            ]
          },
          "metadata": {
            "tags": []
          },
          "execution_count": 35
        }
      ]
    },
    {
      "cell_type": "code",
      "metadata": {
        "id": "RB9GjF8ntNey",
        "colab_type": "code",
        "colab": {}
      },
      "source": [
        "X_train_l2=sel.transform(X_train)\n",
        "X_test_l2=sel.transform(X_test)"
      ],
      "execution_count": 36,
      "outputs": []
    },
    {
      "cell_type": "code",
      "metadata": {
        "id": "feEallgRtVcY",
        "colab_type": "code",
        "colab": {
          "base_uri": "https://localhost:8080/",
          "height": 86
        },
        "outputId": "a33dbc94-7684-4105-d839-ceaa96be8c1c"
      },
      "source": [
        "%%time\n",
        "run_random_forest(X_train_l2,X_test_l2,y_train,y_test)"
      ],
      "execution_count": 37,
      "outputs": [
        {
          "output_type": "stream",
          "text": [
            "AccUracy on test set: \n",
            "0.9553333333333334\n",
            "CPU times: user 2.51 s, sys: 992 µs, total: 2.51 s\n",
            "Wall time: 2.52 s\n"
          ],
          "name": "stdout"
        }
      ]
    },
    {
      "cell_type": "code",
      "metadata": {
        "id": "OwU7CWyitbTw",
        "colab_type": "code",
        "colab": {}
      },
      "source": [
        ""
      ],
      "execution_count": 37,
      "outputs": []
    }
  ]
}